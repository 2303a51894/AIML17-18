{
  "nbformat": 4,
  "nbformat_minor": 0,
  "metadata": {
    "colab": {
      "provenance": [],
      "authorship_tag": "ABX9TyNDicBc0GlFvCHySf2/GmHM",
      "include_colab_link": true
    },
    "kernelspec": {
      "name": "python3",
      "display_name": "Python 3"
    },
    "language_info": {
      "name": "python"
    }
  },
  "cells": [
    {
      "cell_type": "markdown",
      "metadata": {
        "id": "view-in-github",
        "colab_type": "text"
      },
      "source": [
        "<a href=\"https://colab.research.google.com/github/2303a51894/AIML17-18/blob/main/2303A51894_18_B17.ipynb\" target=\"_parent\"><img src=\"https://colab.research.google.com/assets/colab-badge.svg\" alt=\"Open In Colab\"/></a>"
      ]
    },
    {
      "cell_type": "markdown",
      "source": [],
      "metadata": {
        "id": "_4rgi6mKJTGX"
      }
    },
    {
      "cell_type": "code",
      "execution_count": 7,
      "metadata": {
        "colab": {
          "base_uri": "https://localhost:8080/"
        },
        "id": "ZAcQKFsrFl1j",
        "outputId": "d088b74f-d823-4588-8bdb-4506f989780b"
      },
      "outputs": [
        {
          "output_type": "stream",
          "name": "stdout",
          "text": [
            "Top 10 Most Popular Baby Names:\n",
            "      Name Gender    Count\n",
            "0    James      M  5304407\n",
            "1     John      M  5260831\n",
            "2   Robert      M  4970386\n",
            "3  Michael      M  4579950\n",
            "4  William      M  4226608\n",
            "5     Mary      F  4169663\n",
            "6    David      M  3787547\n",
            "7   Joseph      M  2695970\n",
            "8  Richard      M  2638187\n",
            "9  Charles      M  2433540\n"
          ]
        }
      ],
      "source": [
        "import pandas as pd\n",
        "\n",
        "file_path = 'name_gender_dataset.csv'\n",
        "data = pd.read_csv(file_path)\n",
        "\n",
        "top_10_names = data.nlargest(10, 'Count')[['Name', 'Gender', 'Count']]\n",
        "\n",
        "print(\"Top 10 Most Popular Baby Names:\")\n",
        "print(top_10_names)\n"
      ]
    },
    {
      "cell_type": "code",
      "source": [
        "import pandas as pd\n",
        "\n",
        "file_path = 'name_gender_dataset.csv'\n",
        "data = pd.read_csv(file_path)\n",
        "\n",
        "name_counts = data.groupby('Name')['Count'].sum()\n",
        "\n",
        "max_count = name_counts.max()\n",
        "min_count = name_counts.min()\n",
        "\n",
        "max_names = name_counts[name_counts == max_count]\n",
        "min_names = name_counts[name_counts == min_count]\n",
        "\n",
        "\n",
        "print(\"Maximum Count:\")\n",
        "print(max_names)\n",
        "\n",
        "print(\"\\nMinimum Count:\")\n",
        "print(min_names)\n"
      ],
      "metadata": {
        "colab": {
          "base_uri": "https://localhost:8080/"
        },
        "id": "OHwamdNLG3fQ",
        "outputId": "76fb266d-81a1-4852-d5fa-22dcd5690373"
      },
      "execution_count": 8,
      "outputs": [
        {
          "output_type": "stream",
          "name": "stdout",
          "text": [
            "Maximum Count:\n",
            "Name\n",
            "James    5328370\n",
            "Name: Count, dtype: int64\n",
            "\n",
            "Minimum Count:\n",
            "Name\n",
            "A'Aff      1\n",
            "A'Aron     1\n",
            "A'Dele     1\n",
            "A'Isha     1\n",
            "A'Ishah    1\n",
            "          ..\n",
            "Zyrije     1\n",
            "Zyrinah    1\n",
            "Zyshan     1\n",
            "Zyta       1\n",
            "Zyton      1\n",
            "Name: Count, Length: 29379, dtype: int64\n"
          ]
        }
      ]
    },
    {
      "cell_type": "code",
      "source": [
        "import pandas as pd\n",
        "\n",
        "file_path = 'name_gender_dataset.csv'\n",
        "data = pd.read_csv(file_path)\n",
        "\n",
        "gender_name_counts = data.groupby('Gender')['Name'].nunique()\n",
        "\n",
        "most_names_gender = gender_name_counts.idxmax()\n",
        "most_names_count = gender_name_counts.max()\n",
        "\n",
        "print(f\"The gender with the most names is: {most_names_gender} with {most_names_count} unique names.\")\n"
      ],
      "metadata": {
        "colab": {
          "base_uri": "https://localhost:8080/"
        },
        "id": "gNDxOZrfHEkO",
        "outputId": "2603c223-1cc1-49fc-8d48-3a1cc4acdd9b"
      },
      "execution_count": 9,
      "outputs": [
        {
          "output_type": "stream",
          "name": "stdout",
          "text": [
            "The gender with the most names is: F with 89749 unique names.\n"
          ]
        }
      ]
    },
    {
      "cell_type": "code",
      "source": [
        "import pandas as pd\n",
        "\n",
        "file_path = 'name_gender_dataset.csv'\n",
        "data = pd.read_csv(file_path)\n",
        "\n",
        "top_5_male = data[data['Gender'] == 'M'].nlargest(5, 'Probability')[['Name', 'Probability']]\n",
        "\n",
        "top_5_female = data[data['Gender'] == 'F'].nlargest(5, 'Probability')[['Name', 'Probability']]\n",
        "\n",
        "print(\"Top 5 Probabilities for Male Babies:\")\n",
        "print(top_5_male)\n",
        "\n",
        "print(\"\\nTop 5 Probabilities for Female Babies:\")\n",
        "print(top_5_female)\n"
      ],
      "metadata": {
        "colab": {
          "base_uri": "https://localhost:8080/"
        },
        "id": "xQrcLOxrHaGK",
        "outputId": "5ea233f8-3dbf-47e4-c71a-14f6c1be5cfe"
      },
      "execution_count": 10,
      "outputs": [
        {
          "output_type": "stream",
          "name": "stdout",
          "text": [
            "Top 5 Probabilities for Male Babies:\n",
            "      Name  Probability\n",
            "0    James     0.014517\n",
            "1     John     0.014398\n",
            "2   Robert     0.013603\n",
            "3  Michael     0.012534\n",
            "4  William     0.011567\n",
            "\n",
            "Top 5 Probabilities for Female Babies:\n",
            "         Name  Probability\n",
            "5        Mary     0.011411\n",
            "14  Elizabeth     0.004664\n",
            "15   Patricia     0.004401\n",
            "16   Jennifer     0.004336\n",
            "19      Linda     0.004052\n"
          ]
        }
      ]
    },
    {
      "cell_type": "code",
      "source": [
        "import pandas as pd\n",
        "\n",
        "file_path = 'name_gender_dataset.csv'\n",
        "data = pd.read_csv(file_path)\n",
        "\n",
        "top_5_probabilities = data.nlargest(5, 'Probability')[['Name', 'Gender', 'Probability']]\n",
        "\n",
        "print(\"Top 5 Names with the Highest Probabilities:\")\n",
        "print(top_5_probabilities)\n"
      ],
      "metadata": {
        "colab": {
          "base_uri": "https://localhost:8080/"
        },
        "id": "w8W52wuBHnYD",
        "outputId": "36db7b95-d759-4527-e9b0-f0e67896a5b2"
      },
      "execution_count": 11,
      "outputs": [
        {
          "output_type": "stream",
          "name": "stdout",
          "text": [
            "Top 5 Names with the Highest Probabilities:\n",
            "      Name Gender  Probability\n",
            "0    James      M     0.014517\n",
            "1     John      M     0.014398\n",
            "2   Robert      M     0.013603\n",
            "3  Michael      M     0.012534\n",
            "4  William      M     0.011567\n"
          ]
        }
      ]
    },
    {
      "cell_type": "code",
      "source": [
        "import pandas as pd\n",
        "from sklearn.model_selection import train_test_split\n",
        "from sklearn.feature_extraction.text import CountVectorizer\n",
        "from sklearn.linear_model import LogisticRegression\n",
        "from sklearn.metrics import accuracy_score, classification_report\n",
        "\n",
        "\n",
        "file_path = 'name_gender_dataset.csv'\n",
        "data = pd.read_csv(file_path)\n",
        "\n",
        "X = data['Name']\n",
        "y = data['Gender']\n",
        "\n",
        "vectorizer = CountVectorizer()\n",
        "X_vectorized = vectorizer.fit_transform(X)\n",
        "\n",
        "X_train, X_test, y_train, y_test = train_test_split(X_vectorized, y, test_size=0.2, random_state=42)\n",
        "\n",
        "\n",
        "model = LogisticRegression(max_iter=1000)\n",
        "model.fit(X_train, y_train)\n",
        "\n",
        "\n",
        "y_pred = model.predict(X_test)\n",
        "\n",
        "accuracy = accuracy_score(y_test, y_pred)\n",
        "report = classification_report(y_test, y_pred)\n",
        "\n",
        "\n",
        "print(f\"Model Accuracy: {accuracy:.2f}\")\n",
        "print(\"\\nClassification Report:\")\n",
        "print(report)\n"
      ],
      "metadata": {
        "colab": {
          "base_uri": "https://localhost:8080/"
        },
        "id": "logccs7QH0W7",
        "outputId": "8d2a226d-0c0d-4de9-e615-2f0aafeee31f"
      },
      "execution_count": 12,
      "outputs": [
        {
          "output_type": "stream",
          "name": "stdout",
          "text": [
            "Model Accuracy: 0.56\n",
            "\n",
            "Classification Report:\n",
            "              precision    recall  f1-score   support\n",
            "\n",
            "           F       0.59      0.89      0.71     18029\n",
            "           M       0.15      0.03      0.05     11425\n",
            "\n",
            "    accuracy                           0.56     29454\n",
            "   macro avg       0.37      0.46      0.38     29454\n",
            "weighted avg       0.42      0.56      0.46     29454\n",
            "\n"
          ]
        }
      ]
    }
  ]
}